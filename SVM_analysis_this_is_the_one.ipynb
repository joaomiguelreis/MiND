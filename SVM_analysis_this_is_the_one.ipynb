{
 "cells": [
  {
   "cell_type": "markdown",
   "metadata": {},
   "source": [
    "# Support Vector Classifier analysis"
   ]
  },
  {
   "cell_type": "markdown",
   "metadata": {},
   "source": [
    "I rewrote the previous notebook in order include classification for all locations.\n",
    "I train all the locations seperatly. For each location, I generate a model, do a fitting and predict according to the data.\n",
    "The are two different kinds of data that we can get, according to the location. The first one is the badly behaved. It corresponds to the locations where we JUST have features with  ice or no ice, and very NO features for the opposite case. The second case is the well behaved data. This corresponds to the location where we can either have ice or not\n",
    "\n",
    "In array-laguage, the badly behaved case (Case 1) is where training features have JUST '0'/'1'. The well behaved case (Case 2) is the case where training features have '0' and '1'. \n",
    "\n",
    "This requires two different kinds of classifiers. \n",
    "- For case 1: I use a One-Class SVM. Typically, the SVM algorithm is given a set of training examples labeled as belonging to one of two classes. An SVM model is based on dividing the training sample points into separate categories by as wide a gap as possible, while penalizing training samples that fall on the wrong side of the gap (have just '0's or '1's. The SVM model then makes predictions by assigning points to one side of the gap or the other. Therefore, in one-class SVM, the support vector model is trained on data that has only one class, which is the “normal” class. It infers the properties of normal cases and from these properties can predict which examples are unlike the normal examples. This is useful for anomaly detection because the scarcity of training examples is what defines anomalies: that is, typically there are very few examples of the network intrusion, fraud, or other anomalous behavior. I use a linear kernel, and the reason for this is explained below\n",
    "\n",
    "- For case 2: I use Linear Support Vector Classifier. This uses a linear kernel and a few other parameters for better fitting. I tried other kernels ('rbf', 'sigmoid' or 'poly') and algorithms (Nu-SVC, C-SVC) and they all give worst results. It is imortant to notice something. In general, all algorithms drop the error to 0 for sufficiently many shuffles. This is because for each location, we can actually find the good shuffle that trains the algorithm perfectly for our testing data. The LinearSVC is that gives error 0 using the least amount of shuffles"
   ]
  },
  {
   "cell_type": "code",
   "execution_count": null,
   "metadata": {},
   "outputs": [],
   "source": []
  },
  {
   "cell_type": "code",
   "execution_count": 1,
   "metadata": {},
   "outputs": [],
   "source": [
    "# Import required packages\n",
    "from __future__ import print_function\n",
    "import pandas as pd\n",
    "import numpy as np\n",
    "import matplotlib.pyplot as plt\n",
    "\n",
    "from IPython.display import display, Math #\n",
    "\n",
    "\n",
    "from sklearn.model_selection import train_test_split\n",
    "from sklearn.metrics import mean_squared_error\n",
    "\n",
    "from sklearn.svm import LinearSVC, NuSVC, SVC, OneClassSVM"
   ]
  },
  {
   "cell_type": "code",
   "execution_count": null,
   "metadata": {},
   "outputs": [],
   "source": []
  },
  {
   "cell_type": "code",
   "execution_count": 2,
   "metadata": {},
   "outputs": [],
   "source": [
    "PT_data = pd.read_excel(\"PTResults_ice.xlsx\")\n",
    "M = 1000 # number of shuffles\n",
    "test = 0.15 # test size in percentage"
   ]
  },
  {
   "cell_type": "markdown",
   "metadata": {},
   "source": [
    "Before training we shuffle the data and split it for $M$ shuffles. We may not have the need to use the sets, but we are sure that when we compare algotirhtms we do it with the same sets."
   ]
  },
  {
   "cell_type": "code",
   "execution_count": 3,
   "metadata": {},
   "outputs": [
    {
     "name": "stdout",
     "output_type": "stream",
     "text": [
      "Start storing...it may take a while to get to 1000 shuffles\n",
      "       - storing shuffle 0\n",
      "       - storing shuffle 100\n",
      "       - storing shuffle 200\n",
      "       - storing shuffle 300\n",
      "       - storing shuffle 400\n",
      "       - storing shuffle 500\n",
      "       - storing shuffle 600\n",
      "       - storing shuffle 700\n",
      "       - storing shuffle 800\n",
      "       - storing shuffle 900\n"
     ]
    }
   ],
   "source": [
    "## Storing suffles  ##\n",
    "\n",
    "X = PT_data.iloc[:,0:5]\n",
    "y = PT_data.iloc[:,5:-1]\n",
    "\n",
    "y_columns = y\n",
    "y_headers = y_columns.columns.values.tolist()\n",
    "number_loc = len(y_headers)\n",
    "\n",
    "training_features_vector = [[] for i in range(M)]\n",
    "testing_features_vector = [[] for i in range(M)]\n",
    "training_target_vector = [[] for i in range(M)]\n",
    "testing_target_vector = [[] for i in range(M)]\n",
    "\n",
    "\n",
    "#Splitting the data into training and testing and storing to reuze same seeds\n",
    "# for the different algorithms\n",
    "if M > 100: print('Start storing...it may take a while to get to ' + str(M) + ' shuffles')\n",
    "for shuffle in range(M):\n",
    "    if shuffle%100==0: print('       - storing shuffle ' + str(shuffle))\n",
    "    for loc in y_headers:\n",
    "\n",
    "        #Splitting the data into training and testing\n",
    "        training_features, testing_features, training_target, testing_target = train_test_split(\n",
    "            X, y[loc], test_size=test, shuffle=True)\n",
    "\n",
    "        #store\n",
    "        training_features_vector[shuffle].append(training_features)\n",
    "        testing_features_vector[shuffle].append(testing_features)\n",
    "        training_target_vector[shuffle].append(training_target)\n",
    "        testing_target_vector[shuffle].append(testing_target)  "
   ]
  },
  {
   "cell_type": "markdown",
   "metadata": {},
   "source": [
    "Now we finaly train our data. We do this for each location seperatly. We go through all locations before changing to the next shuffle. If the error between the prediction and the testing target is zero for a given location, then we don't train the model for this location anymore. If the error is not zero, another model is initiated and trained with a new shuffle."
   ]
  },
  {
   "cell_type": "code",
   "execution_count": 4,
   "metadata": {},
   "outputs": [
    {
     "name": "stdout",
     "output_type": "stream",
     "text": [
      "Train shuffle 0\n",
      "Train shuffle 100\n",
      "Number of necessary shuffles needed for correct classification: 144\n",
      "MSE: [ 0.  0.  0.  0.  0.  0.  0.  0.  0.  0.  0.  0.  0.  0.  0.  0.  0.  0.\n",
      "  0.  0.  0.  0.  0.  0.  0.  0.  0.  0.  0.  0.  0.  0.  0.  0.  0.  0.\n",
      "  0.  0.  0.  0.  0.  0.  0.  0.  0.  0.  0.  0.  0.  0.  0.  0.  0.  0.\n",
      "  0.  0.  0.  0.  0.  0.  0.  0.  0.  0.  0.  0.  0.  0.  0.  0.  0.  0.\n",
      "  0.  0.  0.  0.  0.  0.  0.  0.  0.  0.  0.  0.  0.  0.  0.  0.  0.  0.\n",
      "  0.  0.  0.  0.  0.  0.  0.  0.  0.  0.  0.  0.  0.  0.  0.  0.  0.  0.\n",
      "  0.  0.  0.  0.  0.  0.  0.  0.  0.  0.  0.  0.  0.  0.  0.]\n",
      "sum of MSE vector 0.0\n"
     ]
    }
   ],
   "source": [
    "#Training with Linear SVC\n",
    "\n",
    "\n",
    "MSE = np.ones(number_loc)\n",
    "for shuffle in range(M):\n",
    "    if shuffle%100==0:\n",
    "        print('Train shuffle ' + str(shuffle))\n",
    "    \n",
    "    # End the loop. Vector of error is null. This algorithms works!\n",
    "    if np.sum(MSE) == 0:\n",
    "        print('Number of necessary shuffles needed for correct classification: '\\\n",
    "              + str(shuffle))\n",
    "        break\n",
    "        \n",
    "        \n",
    "    for i_loc in range(number_loc):\n",
    "        loc = y_headers[i_loc] # get column label for this location\n",
    "        \n",
    "        if MSE[i_loc]==0:\n",
    "            continue # this saves time. Locations with no error are passed\n",
    "        else:\n",
    "            \n",
    "            # retrieving the training/testing sets \n",
    "            training_features = training_features_vector[shuffle][i_loc]\n",
    "            testing_features = testing_features_vector[shuffle][i_loc]\n",
    "            training_target = training_target_vector[shuffle][i_loc]\n",
    "            testing_target = testing_target_vector[shuffle][i_loc]\n",
    "            \n",
    "            #Case 1: training vector has just ones of zeros\n",
    "            if np.sum(np.asarray(training_target)) in [len(training_target),0]:\n",
    "                model = OneClassSVM(nu=0.001, kernel=\"linear\", gamma=0.001)\n",
    "                model.fit(training_features, training_target)\n",
    "                #Comparing prediction with testing values\n",
    "                prediction = model.predict(testing_features)\n",
    "\n",
    "                #Get means and std\n",
    "                mse = mean_squared_error(prediction, testing_target)\n",
    "                \n",
    "            #Case 2: training ordinary training vectors\n",
    "            else:\n",
    "                #Initiate model and fit\n",
    "                model = LinearSVC(random_state=0, tol=1e-5)\n",
    "                model.fit(training_features, training_target)\n",
    "                #Comparing prediction with testing values\n",
    "                prediction = model.predict(testing_features)\n",
    "\n",
    "                #Get means and std\n",
    "                mse = mean_squared_error(prediction, testing_target)\n",
    "                \n",
    "            #Update error vector if better model was found\n",
    "            if mse < MSE[i_loc]:\n",
    "                MSE[i_loc] = mse\n",
    "\n",
    "#Just to confirm \n",
    "print('MSE: ' + str(MSE))\n",
    "print('sum of MSE vector ' + str(np.sum(MSE)))"
   ]
  },
  {
   "cell_type": "code",
   "execution_count": 5,
   "metadata": {},
   "outputs": [
    {
     "data": {
      "image/png": "[encoded data removed]",
      "text/plain": [
       "<matplotlib.figure.Figure at 0x1152ee668>"
      ]
     },
     "metadata": {},
     "output_type": "display_data"
    }
   ],
   "source": [
    "plt.plot(y_headers, MSE)\n",
    "plt.show()"
   ]
  },
  {
   "cell_type": "code",
   "execution_count": null,
   "metadata": {},
   "outputs": [],
   "source": []
  },
  {
   "cell_type": "markdown",
   "metadata": {},
   "source": [
    "This is the same thing as below but with different algorithms: Nu-SVC and C-SVC. They are equivelent and is it possible to change to other kernels. Try to change to the kernels 'rbf', 'poly', 'sigmoid' to see what happens..."
   ]
  },
  {
   "cell_type": "markdown",
   "metadata": {},
   "source": [
    "#### $\\nu$-SVC"
   ]
  },
  {
   "cell_type": "code",
   "execution_count": 6,
   "metadata": {},
   "outputs": [
    {
     "name": "stdout",
     "output_type": "stream",
     "text": [
      "Train shuffle 0\n",
      "Train shuffle 100\n",
      "Train shuffle 200\n",
      "Train shuffle 300\n",
      "Train shuffle 400\n",
      "Train shuffle 500\n",
      "Train shuffle 600\n",
      "Train shuffle 700\n",
      "Train shuffle 800\n",
      "Train shuffle 900\n",
      "MSE: [ 0.          0.          0.          0.          0.          0.          0.\n",
      "  0.          0.          0.          0.          0.          0.          0.\n",
      "  0.          0.          0.          0.          0.          0.          0.\n",
      "  0.          0.          0.          0.          0.          0.          0.\n",
      "  0.          0.          0.          0.          0.          0.          0.\n",
      "  0.          0.          0.          0.          0.          0.          0.\n",
      "  0.          0.          0.          0.          0.          0.          0.\n",
      "  0.          0.          0.          0.          0.          0.          0.\n",
      "  0.          0.          0.          0.          0.          0.          0.\n",
      "  0.          0.          0.          0.          0.          0.          0.\n",
      "  0.          0.          0.          0.          0.          0.\n",
      "  0.06666667  0.          0.          0.          0.06666667  0.          0.\n",
      "  0.          0.          0.          0.          0.06666667  0.          0.\n",
      "  0.06666667  0.          0.06666667  0.          0.06666667  0.          0.\n",
      "  0.          0.          0.06666667  0.          0.06666667  0.06666667\n",
      "  0.          0.          0.          0.          0.          0.          0.\n",
      "  0.          0.          0.          0.          0.          0.          0.\n",
      "  0.          0.          0.          0.          0.          0.        ]\n",
      "sum of MSE vector 0.6\n"
     ]
    }
   ],
   "source": [
    "MSE = np.ones(number_loc)\n",
    "for shuffle in range(M):\n",
    "    if shuffle%100==0:\n",
    "        print('Train shuffle ' + str(shuffle))\n",
    "    if np.sum(MSE) == 0:\n",
    "        print('Number of necessary shuffles needed for correct classification: '\\\n",
    "              + str(shuffle))\n",
    "        break\n",
    "    for i_loc in range(number_loc):\n",
    "        loc = y_headers[i_loc] # get column label for this location\n",
    "        \n",
    "        if MSE[i_loc]==0:\n",
    "            continue # this saves time. Locations with no error are passed\n",
    "        else:\n",
    "            training_features = training_features_vector[shuffle][i_loc]\n",
    "            testing_features = testing_features_vector[shuffle][i_loc]\n",
    "            training_target = training_target_vector[shuffle][i_loc]\n",
    "            testing_target = testing_target_vector[shuffle][i_loc]\n",
    "            if np.sum(np.asarray(training_target)) in [len(training_target),0]:\n",
    "                model = OneClassSVM(nu=0.001, kernel=\"linear\", gamma=0.001)\n",
    "                model.fit(training_features, training_target)\n",
    "                prediction = model.predict(testing_features)\n",
    "                mse = mean_squared_error(prediction, testing_target)\n",
    "            else:\n",
    "                # nu must be low - turns out its too low...\n",
    "                model = NuSVC(nu = 0.001, kernel = 'linear', degree=1, gamma=0.001)  \n",
    "                model.fit(training_features, training_target)\n",
    "                prediction = model.predict(testing_features)\n",
    "                mse = mean_squared_error(prediction, testing_target)\n",
    "            if mse < MSE[i_loc]:\n",
    "                MSE[i_loc] = mse\n",
    "print('MSE: ' + str(MSE))\n",
    "print('sum of MSE vector ' + str(np.sum(MSE)))"
   ]
  },
  {
   "cell_type": "code",
   "execution_count": 7,
   "metadata": {
    "scrolled": true
   },
   "outputs": [
    {
     "data": {
      "image/png": "[encoded data removed]",
      "text/plain": [
       "<matplotlib.figure.Figure at 0x148c6e748>"
      ]
     },
     "metadata": {},
     "output_type": "display_data"
    }
   ],
   "source": [
    "plt.plot(y_headers, MSE, y_headers, np.ones(len(MSE))*np.mean(MSE))\n",
    "plt.show()"
   ]
  },
  {
   "cell_type": "markdown",
   "metadata": {},
   "source": [
    "#### C-SVC"
   ]
  },
  {
   "cell_type": "markdown",
   "metadata": {},
   "source": [
    "Try kernel='linear' or 'poly' and compare with LinearSVC. Sometimes its better..."
   ]
  },
  {
   "cell_type": "code",
   "execution_count": 8,
   "metadata": {},
   "outputs": [
    {
     "name": "stdout",
     "output_type": "stream",
     "text": [
      "Train shuffle 0\n",
      "Train shuffle 100\n",
      "Number of necessary shuffles needed for correct classification: 105\n",
      "MSE: [ 0.  0.  0.  0.  0.  0.  0.  0.  0.  0.  0.  0.  0.  0.  0.  0.  0.  0.\n",
      "  0.  0.  0.  0.  0.  0.  0.  0.  0.  0.  0.  0.  0.  0.  0.  0.  0.  0.\n",
      "  0.  0.  0.  0.  0.  0.  0.  0.  0.  0.  0.  0.  0.  0.  0.  0.  0.  0.\n",
      "  0.  0.  0.  0.  0.  0.  0.  0.  0.  0.  0.  0.  0.  0.  0.  0.  0.  0.\n",
      "  0.  0.  0.  0.  0.  0.  0.  0.  0.  0.  0.  0.  0.  0.  0.  0.  0.  0.\n",
      "  0.  0.  0.  0.  0.  0.  0.  0.  0.  0.  0.  0.  0.  0.  0.  0.  0.  0.\n",
      "  0.  0.  0.  0.  0.  0.  0.  0.  0.  0.  0.  0.  0.  0.  0.]\n",
      "sum of MSE vector 0.0\n"
     ]
    }
   ],
   "source": [
    "MSE = np.ones(number_loc)\n",
    "for shuffle in range(M):\n",
    "    if shuffle%100==0:\n",
    "        print('Train shuffle ' + str(shuffle))\n",
    "    if np.sum(MSE) == 0:\n",
    "        print('Number of necessary shuffles needed for correct classification: '\\\n",
    "              + str(shuffle))\n",
    "        break\n",
    "    for i_loc in range(number_loc):\n",
    "        loc = y_headers[i_loc] # get column label for this location\n",
    "        \n",
    "        if MSE[i_loc]==0:\n",
    "            continue # this saves time. Locations with no error are passed\n",
    "        else:\n",
    "            training_features = training_features_vector[shuffle][i_loc]\n",
    "            testing_features = testing_features_vector[shuffle][i_loc]\n",
    "            training_target = training_target_vector[shuffle][i_loc]\n",
    "            testing_target = testing_target_vector[shuffle][i_loc]\n",
    "            if np.sum(np.asarray(training_target)) in [len(training_target),0]:\n",
    "                # change the kernel!!! see what happens!!\n",
    "                model = OneClassSVM(nu=0.001, kernel=\"linear\", gamma=0.001) \n",
    "                model.fit(training_features, training_target)\n",
    "                prediction = model.predict(testing_features)\n",
    "                mse = mean_squared_error(prediction, testing_target)\n",
    "            else:\n",
    "                # change the kernel!!! see what happens!!\n",
    "                # nu must be low\n",
    "                model = SVC(kernel='poly', degree=2, gamma=0.001) \n",
    "                model.fit(training_features, training_target)\n",
    "                prediction = model.predict(testing_features)\n",
    "                mse = mean_squared_error(prediction, testing_target)\n",
    "            if mse < MSE[i_loc]:\n",
    "                MSE[i_loc] = mse\n",
    "print('MSE: ' + str(MSE))\n",
    "print('sum of MSE vector ' + str(np.sum(MSE)))\n"
   ]
  },
  {
   "cell_type": "code",
   "execution_count": null,
   "metadata": {},
   "outputs": [],
   "source": []
  }
 ],
 "metadata": {
  "kernelspec": {
   "display_name": "Python 3",
   "language": "python",
   "name": "python3"
  },
  "language_info": {
   "codemirror_mode": {
    "name": "ipython",
    "version": 3
   },
   "file_extension": ".py",
   "mimetype": "text/x-python",
   "name": "python",
   "nbconvert_exporter": "python",
   "pygments_lexer": "ipython3",
   "version": "3.6.3"
  }
 },
 "nbformat": 4,
 "nbformat_minor": 2
}
