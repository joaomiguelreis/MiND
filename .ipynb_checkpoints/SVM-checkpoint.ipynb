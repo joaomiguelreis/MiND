{
 "cells": [
  {
   "cell_type": "markdown",
   "metadata": {},
   "source": [
    "# Support Vector Machine"
   ]
  },
  {
   "cell_type": "markdown",
   "metadata": {},
   "source": [
    "These are some experiments with SVM. Here I test the 3 main SVC (Support Vector Classification) algorithms: Linear SVM, Nu-SVM and C-SVM. The N-SVM seems to be the best but we need more experiments.\n",
    "\n",
    "This analysis is very simple. I shuffle my dataset and take $30\\%$ of testing. I do this $M$ times and store each shuffled data set. Then I preform $M$ classifications and take the mean of thhe numer of miss-classified samples and corresponding variance.\n",
    "\n",
    "This is only for a single cell (like Anabel did). I guess we should have to repeat this for all cells in the mesh."
   ]
  },
  {
   "cell_type": "code",
   "execution_count": 1,
   "metadata": {},
   "outputs": [],
   "source": [
    "# Import required packages\n",
    "from __future__ import print_function\n",
    "import pandas as pd\n",
    "import numpy as np\n",
    "import matplotlib.pyplot as plt\n",
    "\n",
    "from IPython.display import display, Math #\n",
    "\n",
    "\n",
    "from sklearn.model_selection import train_test_split\n",
    "from sklearn.metrics import mean_squared_error\n",
    "\n",
    "from sklearn.svm import LinearSVC, NuSVC, SVC"
   ]
  },
  {
   "cell_type": "code",
   "execution_count": 2,
   "metadata": {},
   "outputs": [],
   "source": [
    "# Setup pandas options\n",
    "pd.options.display.max_rows = 10\n",
    "pd.options.display.float_format = '{:.1f}'.format\n",
    "\n",
    "# Setup numpy options\n",
    "np.set_printoptions(precision=3, suppress=True)\n",
    "\n",
    "# Get the data\n",
    "PT_data = pd.read_excel(\"PTResults_trimmed.xlsx\")"
   ]
  },
  {
   "cell_type": "markdown",
   "metadata": {},
   "source": [
    "### Training SVM"
   ]
  },
  {
   "cell_type": "markdown",
   "metadata": {},
   "source": [
    "Here you can change the number of shuffles and test size. This will store the training and testing features and targets to be used for any algorithms you want."
   ]
  },
  {
   "cell_type": "code",
   "execution_count": 3,
   "metadata": {},
   "outputs": [
    {
     "name": "stdout",
     "output_type": "stream",
     "text": [
      "       Temperture[K]  AoA[o]  Mach  MVD[mum]  rho[kg/m3]\n",
      "count           70.0    70.0  70.0      70.0        70.0\n",
      "mean           253.2     5.7   0.6       0.0         0.9\n",
      "std             11.7     3.0   0.1       0.0         0.2\n",
      "min            233.9     0.1   0.3       0.0         0.4\n",
      "25%            244.1     3.5   0.4       0.0         0.6\n",
      "50%            251.5     6.3   0.6       0.0         0.9\n",
      "75%            263.8     8.1   0.7       0.0         1.1\n",
      "max            272.7     9.9   0.8       0.0         1.2\n"
     ]
    }
   ],
   "source": [
    "## TRAINING SVM  ##\n",
    "\n",
    "target = 0.617035028915481\n",
    "X = PT_data.drop(target, axis=1) # Just preparing the data\n",
    "y = PT_data[target]\n",
    "\n",
    "training_features_vector = []\n",
    "testing_features_vector = []\n",
    "training_target_vector = []\n",
    "testing_target_vector = []\n",
    "\n",
    "M = 1000 # number of shuffles\n",
    "test_size = 30 # number of cells to be tested out of 100\n",
    "\n",
    "#Splitting the data into training and testing and storing to reuze same seeds\n",
    "# for the different algorithms\n",
    "for i in range(M):\n",
    "    \n",
    "    training_features, testing_features, training_target, testing_target = train_test_split(\n",
    "        X, y, test_size=test_size/100, shuffle=True)\n",
    "    #store\n",
    "    training_features_vector.append(training_features)\n",
    "    testing_features_vector.append(testing_features)\n",
    "    training_target_vector.append(training_target)\n",
    "    testing_target_vector.append(testing_target)\n",
    "    \n",
    "print(training_features.describe())"
   ]
  },
  {
   "cell_type": "markdown",
   "metadata": {},
   "source": [
    "### Linear SVM"
   ]
  },
  {
   "cell_type": "markdown",
   "metadata": {},
   "source": [
    "This uses the kernel $K(x,x') := \\langle x, x'\\rangle$."
   ]
  },
  {
   "cell_type": "code",
   "execution_count": 4,
   "metadata": {},
   "outputs": [
    {
     "name": "stdout",
     "output_type": "stream",
     "text": [
      "Average number of miss classified cells out of 1000 shuffles: 7.457 +- 0.500038405072\n"
     ]
    }
   ],
   "source": [
    "# Linear Support Vector Classification\n",
    "MSE_linear = 0\n",
    "VarMSE_linear = 0\n",
    "ncells_missclass = []\n",
    "for i in range(M):\n",
    "    training_features = training_features_vector[i]\n",
    "    testing_features = testing_features_vector[i]\n",
    "    training_target = training_target_vector[i]\n",
    "    testing_target = testing_target_vector[i]\n",
    "\n",
    "    #Training with Linear SVC\n",
    "    model = LinearSVC(random_state=0, tol=1e-5)\n",
    "    model.fit(training_features, training_target)\n",
    "\n",
    "    #Comparing prediction with testing values\n",
    "    prediction = model.predict(testing_features)\n",
    "    \n",
    "    #Get means and std\n",
    "    MSE = mean_squared_error(prediction, testing_target)\n",
    "    MSE_linear += MSE\n",
    "    VarMSE_linear += MSE*MSE\n",
    "    ncells_missclass.append(30*mean_squared_error(prediction, testing_target))\n",
    "    \n",
    "MSE_linear /= M\n",
    "VarMSE_linear -= M*MSE_linear**2\n",
    "VarMSE_linear /=(M-1)\n",
    "count_linear = test_size*MSE_linear\n",
    "countstd_linear = test_size*VarMSE_linear\n",
    "print('Average number of miss classified cells out of ' + str(M) + ' shuffles: ' + \n",
    "      str(count_linear) + ' +- ' + str(countstd_linear))"
   ]
  },
  {
   "cell_type": "markdown",
   "metadata": {},
   "source": [
    "### Nu-Support Vector Classification"
   ]
  },
  {
   "cell_type": "markdown",
   "metadata": {},
   "source": [
    "Can use different kernels. I guess we want to try Radial Basis Function and Polynomial kernels. Question is which parameters to try?"
   ]
  },
  {
   "cell_type": "code",
   "execution_count": 34,
   "metadata": {},
   "outputs": [],
   "source": [
    "# Nu-Support Vector Classification\n",
    "def mySVC_Nu(nu, kernel, gamma, degree=0):\n",
    "\n",
    "    MSE_Nu = 0\n",
    "    VarMSE_Nu = 0\n",
    "    ncells_missclass = []\n",
    "    for i in range(M):\n",
    "        \n",
    "        training_features = training_features_vector[i]\n",
    "        testing_features = testing_features_vector[i]\n",
    "        training_target = training_target_vector[i]\n",
    "        testing_target = testing_target_vector[i]\n",
    "\n",
    "        #Training with Nu-SVC\n",
    "        model = NuSVC(nu = nu, kernel = kernel, degree=degree, gamma=gamma)\n",
    "            \n",
    "        model.fit(training_features, training_target)\n",
    "\n",
    "        #Comparing prediction with testing values\n",
    "        prediction = model.predict(testing_features)\n",
    "\n",
    "        #Get means and std\n",
    "        MSE = mean_squared_error(prediction, testing_target)\n",
    "        MSE_Nu += MSE\n",
    "        VarMSE_Nu += MSE*MSE\n",
    "        ncells_missclass.append(30*mean_squared_error(prediction, testing_target))\n",
    "\n",
    "    MSE_Nu /= M\n",
    "    VarMSE_Nu -= M*MSE_Nu**2\n",
    "    VarMSE_Nu /=(M-1)\n",
    "    count_Nu = test_size*MSE_Nu\n",
    "    countVar_Nu = test_size*VarMSE_Nu\n",
    "    \n",
    "    print(r'Average # miss classified cells from ' + str(M) + r' samples: ' + \n",
    "              str(count_Nu) + r' +- ' + str(countVar_Nu) + r' with gamma = ' + str(gamma) + \n",
    "         r', degree ' + str(degree) + ' and nu = ' + str(nu))\n",
    "           \n",
    "    return MSE_Nu, VarMSE_Nu, ncells_missclass"
   ]
  },
  {
   "cell_type": "code",
   "execution_count": 36,
   "metadata": {},
   "outputs": [
    {
     "name": "stdout",
     "output_type": "stream",
     "text": [
      "Average # miss classified cells from 1000 samples: 5.701 +- 0.123843810477 with gamma = 0.001, degree 0 and nu = 0.35\n",
      "Average # miss classified cells from 1000 samples: 6.752 +- 0.0977142475809 with gamma = 0.01, degree 0 and nu = 0.35\n",
      "Average # miss classified cells from 1000 samples: 8.529 +- 0.12516379713 with gamma = 0.1, degree 0 and nu = 0.35\n",
      "Average # miss classified cells from 1000 samples: 10.607 +- 0.176528228228 with gamma = 1, degree 0 and nu = 0.35\n",
      "Average # miss classified cells from 1000 samples: 11.187 +- 0.208275975976 with gamma = 5, degree 0 and nu = 0.35\n",
      "Average # miss classified cells from 1000 samples: 12.162 +- 0.177369235903 with gamma = 10, degree 0 and nu = 0.35\n"
     ]
    },
    {
     "data": {
      "image/png": "[encoded data removed]",
      "text/plain": [
       "<matplotlib.figure.Figure at 0x11da153c8>"
      ]
     },
     "metadata": {},
     "output_type": "display_data"
    }
   ],
   "source": [
    "# PLOTTING for gamma and nu=0.0001\n",
    "axes_vector = []\n",
    "gamma_vector = [0.001,0.01,0.1,1,5,10]\n",
    "nu = 0.35\n",
    "for gamma in gamma_vector:\n",
    "    MSE_Nu, VarMSE_Nu, ncells_missclass = mySVC_Nu(nu, kernel = 'rbf', gamma=gamma)\n",
    "    axes_vector.append(ncells_missclass)\n",
    "\n",
    "rows = 2\n",
    "columns = 3\n",
    "fig, ax = plt.subplots(2, 3, figsize=(15,10), sharex='col', sharey='row')\n",
    "plt.rcParams.update({'font.size': 8})\n",
    "\n",
    "for i in range(rows):\n",
    "    for j in range(columns):\n",
    "        ax[i,j].hist(axes_vector[3*i+j], bins=10)\n",
    "        ax[i,j].set_title('gamma = ' + str(gamma_vector[3*i+j]) + ' and nu = ' + str(nu))\n",
    "        ax[i,j].set_ylim(0,450)\n",
    "        ax[i,j].set_xlim(0,24)\n",
    "\n",
    "plt.show()"
   ]
  },
  {
   "cell_type": "code",
   "execution_count": null,
   "metadata": {},
   "outputs": [],
   "source": []
  },
  {
   "cell_type": "code",
   "execution_count": 37,
   "metadata": {},
   "outputs": [
    {
     "name": "stdout",
     "output_type": "stream",
     "text": [
      "Average # miss classified cells from 1000 samples: 12.5 +- 0.168301634968 with gamma = 0.0001, degree 0 and nu = 0.35\n",
      "Average # miss classified cells from 1000 samples: 6.191 +- 0.230047347347 with gamma = 0.0001, degree 1 and nu = 0.35\n",
      "Average # miss classified cells from 1000 samples: 5.106 +- 0.138363830497 with gamma = 0.0001, degree 2 and nu = 0.35\n",
      "Average # miss classified cells from 1000 samples: 4.818 +- 0.149578778779 with gamma = 0.0001, degree 3 and nu = 0.35\n",
      "Average # miss classified cells from 1000 samples: 4.742 +- 0.15867320654 with gamma = 0.0001, degree 4 and nu = 0.35\n",
      "1000\n"
     ]
    },
    {
     "data": {
      "image/png": "[encoded data removed]",
      "text/plain": [
       "<matplotlib.figure.Figure at 0x11db8d588>"
      ]
     },
     "metadata": {},
     "output_type": "display_data"
    }
   ],
   "source": [
    "# PLOTTING for degree\n",
    "axes_vector = []\n",
    "degree_vector = [0,1,2,3,4]\n",
    "nu = 0.35\n",
    "for degree in degree_vector:\n",
    "    MSE_Nu, VarMSE_Nu, ncells_missclass = mySVC_Nu(nu, kernel = 'poly', gamma=0.0001, degree=degree)\n",
    "    axes_vector.append(ncells_missclass)\n",
    "\n",
    "rows = 1\n",
    "columns = 5\n",
    "fig, ax = plt.subplots(rows, columns, figsize=(20,3), sharex='col', sharey='row')\n",
    "plt.rcParams.update({'font.size': 8})\n",
    "\n",
    "\n",
    "for j in range(columns):\n",
    "    ax[j].hist(axes_vector[j], bins=10)\n",
    "    ax[j].set_title('degree = ' + str(degree_vector[j]) + ' and nu = ' + str(nu))\n",
    "    ax[j].set_ylim(0,500)\n",
    "    ax[j].set_xlim(0,50)\n",
    "print(M)\n",
    "\n",
    "plt.show()"
   ]
  },
  {
   "cell_type": "code",
   "execution_count": null,
   "metadata": {},
   "outputs": [],
   "source": []
  },
  {
   "cell_type": "code",
   "execution_count": 41,
   "metadata": {
    "scrolled": true
   },
   "outputs": [
    {
     "name": "stdout",
     "output_type": "stream",
     "text": [
      "Average # miss classified cells from 1000 samples: 15.276 +- 0.452112912913 with gamma = 0.0001, degree 0 and nu = 0.1\n",
      "Average # miss classified cells from 1000 samples: 11.274 +- 0.690988455122 with gamma = 0.001, degree 0 and nu = 0.1\n",
      "Average # miss classified cells from 1000 samples: 7.573 +- 0.191213580247 with gamma = 0.01, degree 0 and nu = 0.1\n",
      "Average # miss classified cells from 1000 samples: 9.202 +- 0.163937137137 with gamma = 0.1, degree 0 and nu = 0.1\n",
      "Average # miss classified cells from 1000 samples: 14.734 +- 0.491599733066 with gamma = 0.0001, degree 0 and nu = 0.15\n",
      "Average # miss classified cells from 1000 samples: 9.371 +- 0.399711678345 with gamma = 0.001, degree 0 and nu = 0.15\n",
      "Average # miss classified cells from 1000 samples: 7.31 +- 0.178174841508 with gamma = 0.01, degree 0 and nu = 0.15\n",
      "Average # miss classified cells from 1000 samples: 9.202 +- 0.162602469136 with gamma = 0.1, degree 0 and nu = 0.15\n",
      "Average # miss classified cells from 1000 samples: 14.042 +- 0.502043243243 with gamma = 0.0001, degree 0 and nu = 0.2\n",
      "Average # miss classified cells from 1000 samples: 7.883 +- 0.261238271605 with gamma = 0.001, degree 0 and nu = 0.2\n",
      "Average # miss classified cells from 1000 samples: 7.191 +- 0.17252315649 with gamma = 0.01, degree 0 and nu = 0.2\n",
      "Average # miss classified cells from 1000 samples: 9.276 +- 0.157618418418 with gamma = 0.1, degree 0 and nu = 0.2\n",
      "Average # miss classified cells from 1000 samples: 13.12 +- 0.579165832499 with gamma = 0.0001, degree 0 and nu = 0.25\n",
      "Average # miss classified cells from 1000 samples: 6.818 +- 0.185881748415 with gamma = 0.001, degree 0 and nu = 0.25\n",
      "Average # miss classified cells from 1000 samples: 7.218 +- 0.161510710711 with gamma = 0.01, degree 0 and nu = 0.25\n",
      "Average # miss classified cells from 1000 samples: 9.138 +- 0.140839372706 with gamma = 0.1, degree 0 and nu = 0.25\n",
      "Average # miss classified cells from 1000 samples: 11.301 +- 0.566046012679 with gamma = 0.0001, degree 0 and nu = 0.3\n",
      "Average # miss classified cells from 1000 samples: 6.033 +- 0.140937971305 with gamma = 0.001, degree 0 and nu = 0.3\n",
      "Average # miss classified cells from 1000 samples: 7.11 +- 0.124454454454 with gamma = 0.01, degree 0 and nu = 0.3\n",
      "Average # miss classified cells from 1000 samples: 8.891 +- 0.136573873874 with gamma = 0.1, degree 0 and nu = 0.3\n",
      "Average # miss classified cells from 1000 samples: 8.898 +- 0.413399933267 with gamma = 0.0001, degree 0 and nu = 0.35\n",
      "Average # miss classified cells from 1000 samples: 5.701 +- 0.123843810477 with gamma = 0.001, degree 0 and nu = 0.35\n",
      "Average # miss classified cells from 1000 samples: 6.752 +- 0.0977142475809 with gamma = 0.01, degree 0 and nu = 0.35\n",
      "Average # miss classified cells from 1000 samples: 8.529 +- 0.12516379713 with gamma = 0.1, degree 0 and nu = 0.35\n",
      "Average # miss classified cells from 1000 samples: 6.727 +- 0.212027727728 with gamma = 0.0001, degree 0 and nu = 0.4\n",
      "Average # miss classified cells from 1000 samples: 5.537 +- 0.106394094094 with gamma = 0.001, degree 0 and nu = 0.4\n",
      "Average # miss classified cells from 1000 samples: 6.197 +- 0.0859589923257 with gamma = 0.01, degree 0 and nu = 0.4\n",
      "Average # miss classified cells from 1000 samples: 8.128 +- 0.1132337671 with gamma = 0.1, degree 0 and nu = 0.4\n",
      "[]\n"
     ]
    }
   ],
   "source": [
    "nu_vector = [0.1, 0.15, 0.2, 0.25, 0.3, 0.35, 0.4]\n",
    "gamma_vector = [0.0001, 0.001, 0.01, 0.1]\n",
    "degree_vector = [0,1,2,3,4]\n",
    "\n",
    "\n",
    "\n",
    "# kernel = 'rbf'\n",
    "opt_rbf = []\n",
    "for i in range(len(nu_vector)):\n",
    "    nu = nu_vector[i]\n",
    "    for j in range(len(gamma_vector)):\n",
    "        gamma = gamma_vector[j]\n",
    "        MSE_Nu, VarMSE_Nu, ncells_missclass = mySVC_Nu(nu=nu, kernel = 'rbf', gamma=gamma, degree=0)\n",
    "        if test_size*MSE_Nu < 5.5:\n",
    "            opt_rbf.append([i,j])\n",
    "\n",
    "                \n",
    "print(opt_rbf)            "
   ]
  },
  {
   "cell_type": "code",
   "execution_count": null,
   "metadata": {},
   "outputs": [],
   "source": []
  },
  {
   "cell_type": "code",
   "execution_count": 48,
   "metadata": {
    "scrolled": true
   },
   "outputs": [
    {
     "name": "stdout",
     "output_type": "stream",
     "text": [
      "Average # miss classified cells from 1000 samples: 12.5 +- 0.168301634968 with gamma = 0.0001, degree 0 and nu = 0.1\n",
      "Average # miss classified cells from 1000 samples: 12.5 +- 0.168301634968 with gamma = 0.0001, degree 0 and nu = 0.15\n",
      "Average # miss classified cells from 1000 samples: 12.5 +- 0.168301634968 with gamma = 0.0001, degree 0 and nu = 0.2\n",
      "Average # miss classified cells from 1000 samples: 12.5 +- 0.168301634968 with gamma = 0.0001, degree 0 and nu = 0.25\n",
      "Average # miss classified cells from 1000 samples: 12.5 +- 0.168301634968 with gamma = 0.0001, degree 0 and nu = 0.3\n",
      "Average # miss classified cells from 1000 samples: 12.5 +- 0.168301634968 with gamma = 0.0001, degree 0 and nu = 0.35\n",
      "Average # miss classified cells from 1000 samples: 12.5 +- 0.168301634968 with gamma = 0.0001, degree 0 and nu = 0.4\n",
      "Average # miss classified cells from 1000 samples: 12.5 +- 0.168301634968 with gamma = 0.0001, degree 0 and nu = 0.5\n",
      "Average # miss classified cells from 1000 samples: 12.5 +- 0.168301634968 with gamma = 0.0001, degree 0 and nu = 0.6\n",
      "Average # miss classified cells from 1000 samples: 12.5 +- 0.168301634968 with gamma = 0.001, degree 0 and nu = 0.1\n",
      "Average # miss classified cells from 1000 samples: 12.5 +- 0.168301634968 with gamma = 0.001, degree 0 and nu = 0.15\n",
      "Average # miss classified cells from 1000 samples: 12.5 +- 0.168301634968 with gamma = 0.001, degree 0 and nu = 0.2\n",
      "Average # miss classified cells from 1000 samples: 12.5 +- 0.168301634968 with gamma = 0.001, degree 0 and nu = 0.25\n",
      "Average # miss classified cells from 1000 samples: 12.5 +- 0.168301634968 with gamma = 0.001, degree 0 and nu = 0.3\n",
      "Average # miss classified cells from 1000 samples: 12.5 +- 0.168301634968 with gamma = 0.001, degree 0 and nu = 0.35\n",
      "Average # miss classified cells from 1000 samples: 12.5 +- 0.168301634968 with gamma = 0.001, degree 0 and nu = 0.4\n",
      "Average # miss classified cells from 1000 samples: 12.5 +- 0.168301634968 with gamma = 0.001, degree 0 and nu = 0.5\n",
      "Average # miss classified cells from 1000 samples: 12.5 +- 0.168301634968 with gamma = 0.001, degree 0 and nu = 0.6\n",
      "Average # miss classified cells from 1000 samples: 12.5 +- 0.168301634968 with gamma = 0.01, degree 0 and nu = 0.1\n",
      "Average # miss classified cells from 1000 samples: 12.5 +- 0.168301634968 with gamma = 0.01, degree 0 and nu = 0.15\n",
      "Average # miss classified cells from 1000 samples: 12.5 +- 0.168301634968 with gamma = 0.01, degree 0 and nu = 0.2\n",
      "Average # miss classified cells from 1000 samples: 12.5 +- 0.168301634968 with gamma = 0.01, degree 0 and nu = 0.25\n",
      "Average # miss classified cells from 1000 samples: 12.5 +- 0.168301634968 with gamma = 0.01, degree 0 and nu = 0.3\n",
      "Average # miss classified cells from 1000 samples: 12.5 +- 0.168301634968 with gamma = 0.01, degree 0 and nu = 0.35\n",
      "Average # miss classified cells from 1000 samples: 12.5 +- 0.168301634968 with gamma = 0.01, degree 0 and nu = 0.4\n",
      "Average # miss classified cells from 1000 samples: 12.5 +- 0.168301634968 with gamma = 0.01, degree 0 and nu = 0.5\n",
      "Average # miss classified cells from 1000 samples: 12.5 +- 0.168301634968 with gamma = 0.01, degree 0 and nu = 0.6\n",
      "Average # miss classified cells from 1000 samples: 12.5 +- 0.168301634968 with gamma = 0.1, degree 0 and nu = 0.1\n",
      "Average # miss classified cells from 1000 samples: 12.5 +- 0.168301634968 with gamma = 0.1, degree 0 and nu = 0.15\n",
      "Average # miss classified cells from 1000 samples: 12.5 +- 0.168301634968 with gamma = 0.1, degree 0 and nu = 0.2\n",
      "Average # miss classified cells from 1000 samples: 12.5 +- 0.168301634968 with gamma = 0.1, degree 0 and nu = 0.25\n",
      "Average # miss classified cells from 1000 samples: 12.5 +- 0.168301634968 with gamma = 0.1, degree 0 and nu = 0.3\n",
      "Average # miss classified cells from 1000 samples: 12.5 +- 0.168301634968 with gamma = 0.1, degree 0 and nu = 0.35\n",
      "Average # miss classified cells from 1000 samples: 12.5 +- 0.168301634968 with gamma = 0.1, degree 0 and nu = 0.4\n",
      "Average # miss classified cells from 1000 samples: 12.5 +- 0.168301634968 with gamma = 0.1, degree 0 and nu = 0.5\n",
      "Average # miss classified cells from 1000 samples: 12.5 +- 0.168301634968 with gamma = 0.1, degree 0 and nu = 0.6\n",
      "Average # miss classified cells from 1000 samples: 12.858 +- 1.36789576243 with gamma = 0.0001, degree 1 and nu = 0.1\n",
      "Average # miss classified cells from 1000 samples: 11.983 +- 1.40896599933 with gamma = 0.0001, degree 1 and nu = 0.15\n",
      "Average # miss classified cells from 1000 samples: 10.518 +- 1.25431017684 with gamma = 0.0001, degree 1 and nu = 0.2\n",
      "Average # miss classified cells from 1000 samples: 8.99 +- 0.985115115115 with gamma = 0.0001, degree 1 and nu = 0.25\n",
      "Average # miss classified cells from 1000 samples: 7.677 +- 0.736692392392 with gamma = 0.0001, degree 1 and nu = 0.3\n",
      "Average # miss classified cells from 1000 samples: 6.191 +- 0.230047347347 with gamma = 0.0001, degree 1 and nu = 0.35\n",
      "Average # miss classified cells from 1000 samples: 5.635 +- 0.126585752419 with gamma = 0.0001, degree 1 and nu = 0.4\n",
      "Average # miss classified cells from 1000 samples: 5.411 +- 0.103973273273 with gamma = 0.0001, degree 1 and nu = 0.5\n",
      "Average # miss classified cells from 1000 samples: 5.426 +- 0.107057857858 with gamma = 0.0001, degree 1 and nu = 0.6\n",
      "Average # miss classified cells from 1000 samples: 11.485 +- 1.25598181515 with gamma = 0.001, degree 1 and nu = 0.1\n",
      "Average # miss classified cells from 1000 samples: 9.527 +- 1.03828064731 with gamma = 0.001, degree 1 and nu = 0.15\n",
      "Average # miss classified cells from 1000 samples: 7.93 +- 0.747183850517 with gamma = 0.001, degree 1 and nu = 0.2\n",
      "Average # miss classified cells from 1000 samples: 6.622 +- 0.517087620954 with gamma = 0.001, degree 1 and nu = 0.25\n",
      "Average # miss classified cells from 1000 samples: 5.563 +- 0.220221254588 with gamma = 0.001, degree 1 and nu = 0.3\n",
      "Average # miss classified cells from 1000 samples: 5.404 +- 0.17713660327 with gamma = 0.001, degree 1 and nu = 0.35\n",
      "Average # miss classified cells from 1000 samples: 5.328 +- 0.116730597264 with gamma = 0.001, degree 1 and nu = 0.4\n",
      "Average # miss classified cells from 1000 samples: 5.38 +- 0.105291958625 with gamma = 0.001, degree 1 and nu = 0.5\n",
      "Average # miss classified cells from 1000 samples: 5.409 +- 0.107231197865 with gamma = 0.001, degree 1 and nu = 0.6\n",
      "Average # miss classified cells from 1000 samples: 11.867 +- 1.95006042709 with gamma = 0.01, degree 1 and nu = 0.1\n",
      "Average # miss classified cells from 1000 samples: 8.524 +- 1.25456870204 with gamma = 0.01, degree 1 and nu = 0.15\n",
      "Average # miss classified cells from 1000 samples: 6.002 +- 0.469068935602 with gamma = 0.01, degree 1 and nu = 0.2\n",
      "Average # miss classified cells from 1000 samples: 5.047 +- 0.205031398065 with gamma = 0.01, degree 1 and nu = 0.25\n",
      "Average # miss classified cells from 1000 samples: 4.746 +- 0.138788254922 with gamma = 0.01, degree 1 and nu = 0.3\n",
      "Average # miss classified cells from 1000 samples: 5.064 +- 0.137601067734 with gamma = 0.01, degree 1 and nu = 0.35\n",
      "Average # miss classified cells from 1000 samples: 5.367 +- 0.108452152152 with gamma = 0.01, degree 1 and nu = 0.4\n",
      "Average # miss classified cells from 1000 samples: 5.378 +- 0.105409275943 with gamma = 0.01, degree 1 and nu = 0.5\n",
      "Average # miss classified cells from 1000 samples: 5.413 +- 0.107321688355 with gamma = 0.01, degree 1 and nu = 0.6\n",
      "Average # miss classified cells from 1000 samples: 20.222 +- 1.23439159159 with gamma = 0.1, degree 1 and nu = 0.1\n",
      "Average # miss classified cells from 1000 samples: 19.39 +- 1.88348014681 with gamma = 0.1, degree 1 and nu = 0.15\n",
      "Average # miss classified cells from 1000 samples: 15.76 +- 3.07141808475 with gamma = 0.1, degree 1 and nu = 0.2\n",
      "Average # miss classified cells from 1000 samples: 8.491 +- 2.11164227561 with gamma = 0.1, degree 1 and nu = 0.25\n",
      "Average # miss classified cells from 1000 samples: 5.45 +- 0.520637303971 with gamma = 0.1, degree 1 and nu = 0.3\n",
      "Average # miss classified cells from 1000 samples: 5.174 +- 0.131121921922 with gamma = 0.1, degree 1 and nu = 0.35\n",
      "Average # miss classified cells from 1000 samples: 5.379 +- 0.10448311645 with gamma = 0.1, degree 1 and nu = 0.4\n",
      "Average # miss classified cells from 1000 samples: 5.377 +- 0.105801501502 with gamma = 0.1, degree 1 and nu = 0.5\n"
     ]
    },
    {
     "name": "stdout",
     "output_type": "stream",
     "text": [
      "Average # miss classified cells from 1000 samples: 5.413 +- 0.107321688355 with gamma = 0.1, degree 1 and nu = 0.6\n",
      "Average # miss classified cells from 1000 samples: 10.851 +- 1.19602265599 with gamma = 0.0001, degree 2 and nu = 0.1\n",
      "Average # miss classified cells from 1000 samples: 8.711 +- 0.861777744411 with gamma = 0.0001, degree 2 and nu = 0.15\n",
      "Average # miss classified cells from 1000 samples: 6.989 +- 0.572935568902 with gamma = 0.0001, degree 2 and nu = 0.2\n",
      "Average # miss classified cells from 1000 samples: 5.716 +- 0.266444577911 with gamma = 0.0001, degree 2 and nu = 0.25\n",
      "Average # miss classified cells from 1000 samples: 5.2 +- 0.184250917584 with gamma = 0.0001, degree 2 and nu = 0.3\n",
      "Average # miss classified cells from 1000 samples: 5.106 +- 0.138363830497 with gamma = 0.0001, degree 2 and nu = 0.35\n",
      "Average # miss classified cells from 1000 samples: 5.322 +- 0.123467334001 with gamma = 0.0001, degree 2 and nu = 0.4\n",
      "Average # miss classified cells from 1000 samples: 5.384 +- 0.10525672339 with gamma = 0.0001, degree 2 and nu = 0.5\n",
      "Average # miss classified cells from 1000 samples: 5.359 +- 0.104842142142 with gamma = 0.0001, degree 2 and nu = 0.6\n",
      "Average # miss classified cells from 1000 samples: 15.329 +- 3.0702288622 with gamma = 0.001, degree 2 and nu = 0.1\n",
      "Average # miss classified cells from 1000 samples: 15.164 +- 3.45262275609 with gamma = 0.001, degree 2 and nu = 0.15\n",
      "Average # miss classified cells from 1000 samples: 10.257 +- 3.09445949283 with gamma = 0.001, degree 2 and nu = 0.2\n",
      "Average # miss classified cells from 1000 samples: 5.997 +- 1.23393363363 with gamma = 0.001, degree 2 and nu = 0.25\n",
      "Average # miss classified cells from 1000 samples: 4.536 +- 0.23285632299 with gamma = 0.001, degree 2 and nu = 0.3\n",
      "Average # miss classified cells from 1000 samples: 5.014 +- 0.145005138472 with gamma = 0.001, degree 2 and nu = 0.35\n",
      "Average # miss classified cells from 1000 samples: 5.364 +- 0.114698164832 with gamma = 0.001, degree 2 and nu = 0.4\n",
      "Average # miss classified cells from 1000 samples: 5.385 +- 0.105731564898 with gamma = 0.001, degree 2 and nu = 0.5\n",
      "Average # miss classified cells from 1000 samples: 5.36 +- 0.104984984985 with gamma = 0.001, degree 2 and nu = 0.6\n",
      "Average # miss classified cells from 1000 samples: 9.725 +- 1.69680930931 with gamma = 0.0001, degree 3 and nu = 0.1\n",
      "Average # miss classified cells from 1000 samples: 6.593 +- 0.762607640974 with gamma = 0.0001, degree 3 and nu = 0.15\n",
      "Average # miss classified cells from 1000 samples: 4.952 +- 0.233022889556 with gamma = 0.0001, degree 3 and nu = 0.2\n",
      "Average # miss classified cells from 1000 samples: 4.292 +- 0.133558091425 with gamma = 0.0001, degree 3 and nu = 0.25\n",
      "Average # miss classified cells from 1000 samples: 4.32 +- 0.138591925259 with gamma = 0.0001, degree 3 and nu = 0.3\n",
      "Average # miss classified cells from 1000 samples: 4.818 +- 0.149578778779 with gamma = 0.0001, degree 3 and nu = 0.35\n",
      "Average # miss classified cells from 1000 samples: 5.309 +- 0.121772405739 with gamma = 0.0001, degree 3 and nu = 0.4\n",
      "Average # miss classified cells from 1000 samples: 5.316 +- 0.103708508509 with gamma = 0.0001, degree 3 and nu = 0.5\n",
      "Average # miss classified cells from 1000 samples: 5.313 +- 0.103204237571 with gamma = 0.0001, degree 3 and nu = 0.6\n",
      "Average # miss classified cells from 1000 samples: 6.518 +- 0.799588788789 with gamma = 0.0001, degree 4 and nu = 0.1\n",
      "Average # miss classified cells from 1000 samples: 5.068 +- 0.320032565899 with gamma = 0.0001, degree 4 and nu = 0.15\n",
      "Average # miss classified cells from 1000 samples: 4.149 +- 0.111004304304 with gamma = 0.0001, degree 4 and nu = 0.2\n",
      "Average # miss classified cells from 1000 samples: 3.917 +- 0.100304004004 with gamma = 0.0001, degree 4 and nu = 0.25\n",
      "Average # miss classified cells from 1000 samples: 4.103 +- 0.141354387721 with gamma = 0.0001, degree 4 and nu = 0.3\n",
      "Average # miss classified cells from 1000 samples: 4.742 +- 0.15867320654 with gamma = 0.0001, degree 4 and nu = 0.35\n",
      "Average # miss classified cells from 1000 samples: 5.264 +- 0.126269736403 with gamma = 0.0001, degree 4 and nu = 0.4\n",
      "Average # miss classified cells from 1000 samples: 5.302 +- 0.106466333 with gamma = 0.0001, degree 4 and nu = 0.5\n",
      "Average # miss classified cells from 1000 samples: 5.316 +- 0.102507307307 with gamma = 0.0001, degree 4 and nu = 0.6\n",
      "[[7, 0], [8, 0], [5, 1], [6, 1], [7, 1], [8, 1], [3, 2], [4, 2], [5, 2], [6, 2], [7, 2], [8, 2], [4, 3], [5, 3], [6, 3], [7, 3], [8, 3], [4, 0], [5, 0], [6, 0], [7, 0], [8, 0], [4, 1], [5, 1], [6, 1], [7, 1], [8, 1], [2, 0], [3, 0], [4, 0], [5, 0], [6, 0], [7, 0], [8, 0], [1, 0], [2, 0], [3, 0], [4, 0], [5, 0], [6, 0], [7, 0], [8, 0]]\n"
     ]
    }
   ],
   "source": [
    "nu_vector = [0.1, 0.15, 0.2, 0.25, 0.3, 0.35, 0.4, 0.5, 0.6]\n",
    "gamma_vector = [0.0001, 0.001, 0.01, 0.1]\n",
    "degree_vector = [0,1,2,3,4]\n",
    "\n",
    "\n",
    "\n",
    "# kernel = 'poly'\n",
    "opt_rbf = []\n",
    "for k in range(len(degree_vector)):\n",
    "    degree = degree_vector[k]\n",
    "    for j in range(len(gamma_vector)):\n",
    "        gamma = gamma_vector[j]\n",
    "        if degree >= 2 and gamma >= 0.01: continue\n",
    "        if degree >= 3 and gamma >= 0.001: continue\n",
    "        for i in range(len(nu_vector)):\n",
    "            nu = nu_vector[i]\n",
    "            MSE_Nu, VarMSE_Nu, ncells_missclass = mySVC_Nu(nu=nu, kernel = 'poly', gamma=gamma, degree=degree)\n",
    "            if test_size*MSE_Nu < 4.5:\n",
    "                opt_rbf.append([i,j])\n",
    "\n",
    "                \n",
    "print(opt_rbf)            "
   ]
  },
  {
   "cell_type": "code",
   "execution_count": null,
   "metadata": {},
   "outputs": [],
   "source": []
  },
  {
   "cell_type": "code",
   "execution_count": 8,
   "metadata": {},
   "outputs": [
    {
     "name": "stdout",
     "output_type": "stream",
     "text": [
      "Average number of miss classified cells out of 1000 samples: 8.046 +- 0.135731865199\n"
     ]
    },
    {
     "data": {
      "image/png": "[encoded data removed]",
      "text/plain": [
       "<matplotlib.figure.Figure at 0x10e14e710>"
      ]
     },
     "metadata": {},
     "output_type": "display_data"
    }
   ],
   "source": [
    "#Training with C-Support Vector Classification\n",
    "MSE_svc = 0\n",
    "VarMSE_svc = 0\n",
    "ncells_missclass = []\n",
    "for i in range(M):\n",
    "    training_features = training_features_vector[i]\n",
    "    testing_features = testing_features_vector[i]\n",
    "    training_target = training_target_vector[i]\n",
    "    testing_target = testing_target_vector[i]\n",
    "\n",
    "    #Training with Nu-SVC\n",
    "    model = SVC(gamma='auto')\n",
    "    model.fit(training_features, training_target)\n",
    "    \n",
    "    #Comparing prediction with testing values\n",
    "    prediction = model.predict(testing_features)\n",
    "    \n",
    "    #Get means and std\n",
    "    MSE = mean_squared_error(prediction, testing_target)\n",
    "    MSE_svc += MSE\n",
    "    VarMSE_svc += MSE*MSE\n",
    "    ncells_missclass.append(30*mean_squared_error(prediction, testing_target))\n",
    "    \n",
    "MSE_svc /= M\n",
    "VarMSE_svc -= M*MSE_svc**2\n",
    "VarMSE_svc/=(M-1)\n",
    "count_svc = test_size*MSE_svc\n",
    "countVar_svc = test_size*VarMSE_svc\n",
    "print('Average number of miss classified cells out of ' + str(M) + ' samples: ' + \n",
    "      str(str(count_svc) + ' +- ' + str(countVar_svc)))\n",
    "\n",
    "# histogram\n",
    "fig, axes = plt.subplots(1)\n",
    "axes.hist(ncells_missclass, bins=12)\n",
    "plt.show()"
   ]
  },
  {
   "cell_type": "code",
   "execution_count": null,
   "metadata": {},
   "outputs": [],
   "source": []
  },
  {
   "cell_type": "code",
   "execution_count": null,
   "metadata": {},
   "outputs": [],
   "source": []
  },
  {
   "cell_type": "code",
   "execution_count": null,
   "metadata": {},
   "outputs": [],
   "source": []
  }
 ],
 "metadata": {
  "kernelspec": {
   "display_name": "Python 3",
   "language": "python",
   "name": "python3"
  },
  "language_info": {
   "codemirror_mode": {
    "name": "ipython",
    "version": 3
   },
   "file_extension": ".py",
   "mimetype": "text/x-python",
   "name": "python",
   "nbconvert_exporter": "python",
   "pygments_lexer": "ipython3",
   "version": "3.6.3"
  }
 },
 "nbformat": 4,
 "nbformat_minor": 2
}
