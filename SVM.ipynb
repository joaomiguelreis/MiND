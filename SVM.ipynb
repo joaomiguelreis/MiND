{
 "cells": [
  {
   "cell_type": "code",
   "execution_count": 49,
   "metadata": {},
   "outputs": [],
   "source": [
    "# Import required packages\n",
    "from __future__ import print_function\n",
    "import pandas as pd\n",
    "import numpy as np\n",
    "import matplotlib.pyplot as plt\n",
    "\n",
    "from sklearn.model_selection import train_test_split\n",
    "from sklearn.metrics import mean_squared_error\n",
    "\n",
    "from sklearn.svm import LinearSVC, NuSVC, SVC"
   ]
  },
  {
   "cell_type": "code",
   "execution_count": 50,
   "metadata": {},
   "outputs": [],
   "source": [
    "# Setup pandas options\n",
    "pd.options.display.max_rows = 10\n",
    "pd.options.display.float_format = '{:.1f}'.format\n",
    "\n",
    "# Setup numpy options\n",
    "np.set_printoptions(precision=3, suppress=True)\n",
    "\n",
    "# Get the data\n",
    "PT_data = pd.read_excel(\"PTResults_trimmed.xlsx\")"
   ]
  },
  {
   "cell_type": "code",
   "execution_count": 51,
   "metadata": {},
   "outputs": [
    {
     "name": "stdout",
     "output_type": "stream",
     "text": [
      "       Temperture[K]  AoA[o]  Mach  MVD[mum]  rho[kg/m3]\n",
      "count           96.0    96.0  96.0      96.0        96.0\n",
      "mean           252.1     5.6   0.6       0.0         0.8\n",
      "std             12.0     3.2   0.1       0.0         0.2\n",
      "min            233.2     0.1   0.3       0.0         0.4\n",
      "25%            242.3     2.7   0.4       0.0         0.6\n",
      "50%            251.2     6.2   0.6       0.0         0.8\n",
      "75%            263.0     8.5   0.7       0.0         1.0\n",
      "max            272.7     9.9   0.8       0.0         1.2\n"
     ]
    }
   ],
   "source": [
    "## TRAINING SVM  ##\n",
    "\n",
    "target = 0.617035028915481\n",
    "X = PT_data.drop(target, axis=1) # Just preparing the data\n",
    "y = PT_data[target]\n",
    "\n",
    "training_features_vector = []\n",
    "testing_features_vector = []\n",
    "training_target_vector = []\n",
    "testing_target_vector = []\n",
    "\n",
    "M = 1000 # number of shuffles\n",
    "test_size = 30 # number of cells to be tested out of 100\n",
    "\n",
    "#Splitting the data into training and testing and storing to reuze same seeds\n",
    "# for the different algorithms\n",
    "for i in range(M):\n",
    "    \n",
    "    training_features, testing_features, training_target, testing_target = train_test_split(\n",
    "        X, y, test_size=1/test_size, shuffle=True)\n",
    "    #store\n",
    "    training_features_vector.append(training_features)\n",
    "    testing_features_vector.append(testing_features)\n",
    "    training_target_vector.append(training_target)\n",
    "    testing_target_vector.append(testing_target)\n",
    "    \n",
    "print(training_features.describe())"
   ]
  },
  {
   "cell_type": "markdown",
   "metadata": {},
   "source": [
    "Linear SVM"
   ]
  },
  {
   "cell_type": "code",
   "execution_count": 52,
   "metadata": {},
   "outputs": [
    {
     "name": "stdout",
     "output_type": "stream",
     "text": [
      "Average number of miss classified cells out of 1000 samples: 7.7925 +- 1.84586899399\n"
     ]
    }
   ],
   "source": [
    "# Linear Support Vector Classification\n",
    "MSE_linear = 0\n",
    "VarMSE_linear = 0\n",
    "for i in range(M):\n",
    "    training_features = training_features_vector[i]\n",
    "    testing_features = testing_features_vector[i]\n",
    "    training_target = training_target_vector[i]\n",
    "    testing_target = testing_target_vector[i]\n",
    "\n",
    "    #Training with Linear SVC\n",
    "    model = LinearSVC(random_state=0, tol=1e-5)\n",
    "    model.fit(training_features, training_target)\n",
    "\n",
    "    #Comparing prediction with testing values\n",
    "    prediction = model.predict(testing_features)\n",
    "    \n",
    "    #Get means and std\n",
    "    MSE = mean_squared_error(prediction, testing_target)\n",
    "    MSE_linear += MSE\n",
    "    stdMSE_linear += MSE*MSE\n",
    "    \n",
    "MSE_linear /= M\n",
    "VarMSE_linear -= M*MSE_linear**2\n",
    "VarMSE_linear /=(M-1)\n",
    "count_linear = test_size*MSE_linear\n",
    "countstd_linear = test_size*stdMSE_linear\n",
    "print('Average number of miss classified cells out of ' + str(M) + ' samples: ' + \n",
    "      str(count_linear) + ' +- ' + str(countstd_linear))"
   ]
  },
  {
   "cell_type": "markdown",
   "metadata": {},
   "source": [
    "Nu-Support Vector Classification"
   ]
  },
  {
   "cell_type": "code",
   "execution_count": 53,
   "metadata": {},
   "outputs": [
    {
     "name": "stdout",
     "output_type": "stream",
     "text": [
      "Average number of miss classified cells out of 1000 samples: 5.0325 +- 0.981154279279\n"
     ]
    }
   ],
   "source": [
    "# Nu-Support Vector Classification\n",
    "MSE_Nu = 0\n",
    "stdMSE_Nu = 0\n",
    "for i in range(M):\n",
    "    training_features = training_features_vector[i]\n",
    "    testing_features = testing_features_vector[i]\n",
    "    training_target = training_target_vector[i]\n",
    "    testing_target = testing_target_vector[i]\n",
    "\n",
    "    #Training with Nu-SVC\n",
    "    model = NuSVC(gamma=0.001)\n",
    "    model.fit(training_features, training_target)\n",
    "    \n",
    "    #Comparing prediction with testing values\n",
    "    prediction = model.predict(testing_features)\n",
    "    \n",
    "    #Get means and std\n",
    "    MSE = mean_squared_error(prediction, testing_target)\n",
    "    MSE_Nu += MSE\n",
    "    stdMSE_Nu += MSE*MSE\n",
    "    \n",
    "MSE_Nu /= M\n",
    "stdMSE_Nu -= M*MSE_Nu**2\n",
    "stdMSE_Nu /=(M-1)\n",
    "count_Nu = test_size*MSE_Nu\n",
    "countstd_Nu = test_size*stdMSE_Nu\n",
    "print('Average number of miss classified cells out of ' + str(M) + ' samples: ' + \n",
    "      str(count_Nu) + ' +- ' + str(countstd_Nu))"
   ]
  },
  {
   "cell_type": "markdown",
   "metadata": {},
   "source": [
    "C-Support Vector Classification"
   ]
  },
  {
   "cell_type": "code",
   "execution_count": 54,
   "metadata": {},
   "outputs": [
    {
     "name": "stdout",
     "output_type": "stream",
     "text": [
      "Average number of miss classified cells out of 1000 samples: 7.7325 +- 1.29511824324\n"
     ]
    }
   ],
   "source": [
    "#Training with C-Support Vector Classification\n",
    "MSE_svc = 0\n",
    "stdMSE_svc = 0\n",
    "for i in range(M):\n",
    "    training_features = training_features_vector[i]\n",
    "    testing_features = testing_features_vector[i]\n",
    "    training_target = training_target_vector[i]\n",
    "    testing_target = testing_target_vector[i]\n",
    "\n",
    "    #Training with Nu-SVC\n",
    "    model = SVC(gamma='auto')\n",
    "    model.fit(training_features, training_target)\n",
    "    \n",
    "    #Comparing prediction with testing values\n",
    "    prediction = model.predict(testing_features)\n",
    "    \n",
    "    #Get means and std\n",
    "    MSE = mean_squared_error(prediction, testing_target)\n",
    "    MSE_svc += MSE\n",
    "    stdMSE_svc += MSE*MSE\n",
    "    \n",
    "MSE_svc /= M\n",
    "stdMSE_svc -= M*MSE_svc**2\n",
    "stdMSE_svc/=(M-1)\n",
    "count_svc = test_size*MSE_svc\n",
    "countstd_svc = test_size*stdMSE_svc\n",
    "print('Average number of miss classified cells out of ' + str(M) + ' samples: ' + \n",
    "      str(str(count_svc) + ' +- ' + str(countstd_svc)))"
   ]
  },
  {
   "cell_type": "code",
   "execution_count": null,
   "metadata": {},
   "outputs": [],
   "source": []
  },
  {
   "cell_type": "code",
   "execution_count": null,
   "metadata": {},
   "outputs": [],
   "source": []
  },
  {
   "cell_type": "code",
   "execution_count": null,
   "metadata": {},
   "outputs": [],
   "source": []
  }
 ],
 "metadata": {
  "kernelspec": {
   "display_name": "Python 3",
   "language": "python",
   "name": "python3"
  },
  "language_info": {
   "codemirror_mode": {
    "name": "ipython",
    "version": 3
   },
   "file_extension": ".py",
   "mimetype": "text/x-python",
   "name": "python",
   "nbconvert_exporter": "python",
   "pygments_lexer": "ipython3",
   "version": "3.6.3"
  }
 },
 "nbformat": 4,
 "nbformat_minor": 2
}
